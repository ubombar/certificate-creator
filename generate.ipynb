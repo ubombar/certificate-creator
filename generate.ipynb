{
 "cells": [
  {
   "cell_type": "code",
   "execution_count": 20,
   "metadata": {},
   "outputs": [],
   "source": [
    "from cryptography.hazmat.backends import default_backend\n",
    "from cryptography.hazmat.primitives import serialization, hashes\n",
    "from cryptography.hazmat.primitives.asymmetric import rsa\n",
    "import base64\n",
    "from cryptography import x509\n",
    "from cryptography.hazmat.backends import default_backend\n",
    "from cryptography.hazmat.primitives import serialization\n",
    "from cryptography.hazmat.primitives.asymmetric import rsa\n",
    "from cryptography.x509.oid import NameOID\n",
    "from kubernetes import client, config\n",
    "import subprocess"
   ]
  },
  {
   "cell_type": "code",
   "execution_count": 21,
   "metadata": {},
   "outputs": [],
   "source": [
    "import subprocess\n",
    "\n",
    "def execute_kubectl_command(command):\n",
    "    try:\n",
    "        subprocess.run(command, check=True)\n",
    "        print(f\"Command '{' '.join(command)}' executed successfully.\")\n",
    "    except subprocess.CalledProcessError as e:\n",
    "        print(f\"Error: Failed to execute command '{' '.join(command)}'.\")\n",
    "        print(f\"Error message: {e}\")"
   ]
  },
  {
   "cell_type": "code",
   "execution_count": 26,
   "metadata": {},
   "outputs": [],
   "source": [
    "def generate_rsa_key(subject: str, organization=None, key_size=2048):\n",
    "    # Generate RSA private key\n",
    "    private_key = rsa.generate_private_key(\n",
    "        public_exponent=65537,\n",
    "        key_size=key_size,\n",
    "        backend=default_backend()\n",
    "    )\n",
    "\n",
    "    # Serialize the private key to PEM format\n",
    "    pem = private_key.private_bytes(\n",
    "        encoding=serialization.Encoding.PEM,\n",
    "        format=serialization.PrivateFormat.TraditionalOpenSSL,\n",
    "        encryption_algorithm=serialization.NoEncryption()\n",
    "    )\n",
    "\n",
    "    csr_builder = x509.CertificateSigningRequestBuilder()\n",
    "\n",
    "     # Add subject information\n",
    "    csr_attirbs = [\n",
    "        x509.NameAttribute(NameOID.COMMON_NAME, subject),\n",
    "    ]\n",
    "\n",
    "    if organization != None:\n",
    "        csr_attirbs.append(x509.NameAttribute(NameOID.ORGANIZATION_NAME, organization))\n",
    "\n",
    "    csr_builder = csr_builder.subject_name(x509.Name(csr_attirbs))\n",
    "\n",
    "    # Sign the CSR with the private key\n",
    "    csr = csr_builder.sign(\n",
    "        private_key,\n",
    "        hashes.SHA256(),\n",
    "        default_backend()\n",
    "    )\n",
    "\n",
    "    csr_bytes = csr.public_bytes(serialization.Encoding.PEM)\n",
    "\n",
    "    \n",
    "\n",
    "    base64_data_pem = base64.b64encode(pem)\n",
    "    base64_pem = base64_data_pem.decode('utf-8')\n",
    "\n",
    "    base64_data_csr = base64.b64encode(csr_bytes)\n",
    "    base64_csr = base64_data_csr.decode('utf-8')\n",
    "\n",
    "    \n",
    "    return base64_pem, base64_csr\n",
    "\n",
    "def create_and_approve_csr(username, base64_csr, expiration_seconds):\n",
    "    config.load_kube_config()\n",
    "    csr_name = f\"{username}\"\n",
    "    api_instance = client.CertificatesV1Api()\n",
    "\n",
    "    # Define the Certificate Signing Request (CSR) object\n",
    "    csr_manifest = {\n",
    "        \"apiVersion\": \"certificates.k8s.io/v1\",\n",
    "        \"kind\": \"CertificateSigningRequest\",\n",
    "        \"metadata\": {\n",
    "            \"name\": csr_name,\n",
    "        },\n",
    "        \"spec\": {\n",
    "            \"groups\": [\n",
    "                \"system:authenticated\"\n",
    "            ],\n",
    "            \"request\": base64_csr,\n",
    "            \"signerName\": \"kubernetes.io/kube-apiserver-client\",\n",
    "            \"expirationSeconds\": expiration_seconds,\n",
    "            \"usages\": [\n",
    "                \"digital signature\",\n",
    "                \"key encipherment\",\n",
    "                \"client auth\"\n",
    "            ]\n",
    "        }\n",
    "    }\n",
    "\n",
    "    # Create the CSR\n",
    "    try:\n",
    "        api_instance.create_certificate_signing_request(body=csr_manifest)\n",
    "    except Exception as e:\n",
    "        print(\"encountered\", e)\n",
    "        return\n",
    "\n",
    "    try:\n",
    "        # Run the kubectl command to approve the certificate request\n",
    "        subprocess.run([\"kubectl\", \"certificate\", \"approve\", csr_name], check=True)\n",
    "    except subprocess.CalledProcessError as e:\n",
    "        print(f\"Error message: {e}\")\n",
    "\n",
    "    try:\n",
    "        result = subprocess.run([\"kubectl\", \"get\", \"csr\", csr_name, \"-o\", \"jsonpath='{.status.certificate}'\"], capture_output=True, text=True, check=True)\n",
    "        certificate_base64 = result.stdout.strip()[1:-1]  # Strip leading and trailing single quotes\n",
    "        # base64_data_certificate = base64.b64encode(result.stdout.strip()[1:-1])\n",
    "        # base64_certificate = base64_data_certificate.decode('utf-8')\n",
    "        return result.stdout[1:-1]\n",
    "    except subprocess.CalledProcessError as e:\n",
    "        print(f\"Error: Failed to get certificate from CSR '{csr_name}'.\")\n",
    "        print(f\"Error message: {e}\")\n",
    "        return None"
   ]
  },
  {
   "cell_type": "code",
   "execution_count": 28,
   "metadata": {},
   "outputs": [
    {
     "name": "stdout",
     "output_type": "stream",
     "text": [
      "True True\n",
      "certificatesigningrequest.certificates.k8s.io/ufuk approved\n",
      "True\n",
      "\n",
      "- name: ufuk\n",
      "  user:\n",
      "    client-certificate-data: LS0tLS1CRUdJTiBDRVJUSUZJQ0FURS0tLS0tCk1JSURCRENDQWV5Z0F3SUJBZ0lRZEJTTkQ2eFlxTVloRXhOYmhubnJnVEFOQmdrcWhraUc5dzBCQVFzRkFEQVYKTVJNd0VRWURWUVFERXdwdGFXNXBhM1ZpWlVOQk1CNFhEVEkwTURJeU56RXhOVE15TUZvWERUSTFNREl5TmpFeApOVE15TUZvd0R6RU5NQXNHQTFVRUF4TUVkV1oxYXpDQ0FTSXdEUVlKS29aSWh2Y05BUUVCQlFBRGdnRVBBRENDCkFRb0NnZ0VCQU4yN2JwNDNoelhzWUE5RHlVSmE4eFNSR1hZelA1RUVvb2lGWEhmR0hxMmJxUUhMRHFqZHh2QmYKaTJwcEhCRWoxOFdqZ3hWdWpWd0pqdE8xSnplUmNwcWZLUHVzcGNBMUo0eTJDOCt2a2FKSUJsZVBjQWpEMGpteQowakhxdTkxK3NQTTRFcDVZVWxxRTdXcWM4Tmxad01yUEpPcU8xQ0QzaVIyaDFzTTZlWXA0QmVaWGxJZ1JreVlNCjVmMFJibkVUcEN5WC9TcEN4cktDRnVCSS9MSDdMRGowbjVPSmlFQVphOEFQL3U5VkphR2hCRVZwVTRpdE1pV3kKL3RzWTBxMU5DV2dWTWExZHRSQ3gwVWpSSTVqblN1Sk5tWVZvTXNTSkp4YkxMTnBOMWltUkRXYnRUMVZ3OFplbwoxMUxOQ0RYTmRyOUl3NHVCckFLQUhaME1POFdWdlVVQ0F3RUFBYU5XTUZRd0RnWURWUjBQQVFIL0JBUURBZ1dnCk1CTUdBMVVkSlFRTU1Bb0dDQ3NHQVFVRkJ3TUNNQXdHQTFVZEV3RUIvd1FDTUFBd0h3WURWUjBqQkJnd0ZvQVUKV2R4VlhzRzgvRkZCQy81cDdEM1lhcjBvSGNzd0RRWUpLb1pJaHZjTkFRRUxCUUFEZ2dFQkFBMlY0b3hYNDdXaApQMjB0R1NmVEtjTk1uY1VLYUU0ellQeTNYSkMvL0NSaHo5TnNBMnU2anY4Vk94V2lOVlF6cU5LTkVwWHkwTWJQCmVibEU5ZmZaQVV6ZWoxdHhCWVJWblBtdzBKTkMyeHA1Ujd6SFFIc0M4cENITFZaNmVQQnp0ZGZqaXRrWVo4cSsKbGZjSVlkaTJuUi9ocXluUS9NR3FMdnZ6UUdqNVhMbE83WWtUOHRoMnczRld0bVE4VU5BQlAvSjdsN0VPZWxwQwpydUNJWmVJWGVtTS80MGp0OEIrSDNReEFJSG1JQytYb0p0QTNrVjllK09oM040NGhZNVN6Qkh2UU5BMTR5YkFaCkhTSThGeWJKTXUzeVpoaWNudEVGNVp5V3JzWnFMS2tYVks5S0hhNXZST2NOKzJ2dmpEMlY2UDVYUW5wUThhRG0KSTZQWFVzQTVRdFE9Ci0tLS0tRU5EIENFUlRJRklDQVRFLS0tLS0K\n",
      "    client-key-data: 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\n",
      "\n"
     ]
    }
   ],
   "source": [
    "USERNAME = \"ufuk\"\n",
    "EXP_SECONDS = 60 * 60 * 24 * 365 # one year\n",
    "\n",
    "base64_pem, base64_csr = generate_rsa_key(USERNAME)\n",
    "base64_certificate = create_and_approve_csr(USERNAME, base64_csr, EXP_SECONDS)\n",
    "\n",
    "print(base64_certificate != None)\n",
    "\n",
    "print(f'''\n",
    "- name: {USERNAME}\n",
    "  user:\n",
    "    client-certificate-data: {base64_certificate}\n",
    "    client-key-data: {base64_pem}\n",
    "''')"
   ]
  },
  {
   "cell_type": "code",
   "execution_count": 48,
   "metadata": {},
   "outputs": [
    {
     "data": {
      "text/plain": [
       "'LS0tLS1CRUdJTiBDRVJUSUZJQ0FURS0tLS0tCk1JSURCVENDQWUyZ0F3SUJBZ0lRVUtEbi9adkZSQzVRbmczdnYwMnZlakFOQmdrcWhraUc5dzBCQVFzRkFEQVYKTVJNd0VRWURWUVFERXdwdGFXNXBhM1ZpWlVOQk1CNFhEVEkwTURJeU1qRTFORFl3TjFvWERUSTBNREl5T0RFMwpORFl3TjFvd0VERU9NQXdHQTFVRUF4TUZZV3hwWTJVd2dnRWlNQTBHQ1NxR1NJYjNEUUVCQVFVQUE0SUJEd0F3CmdnRUtBb0lCQVFEUVBQZnZ3S0E2SnlHVVdDQjBSYnVHbmdMQURVZW4xR3Vkc1RybUcyampMQlM5WTVMYmZZQ3UKYlpqU1M1MmVtaXFXKy9DaEJ2RUVOUTZhZitCalZ0TE9YMTg2WDJwZWdDeGVuMVRWNDdXKzJ6NjdmYWlpVjA3ZwozeC9pTURVS2FRN3pJU015ODNaKzEyZU1tdnh4UUNzUFhYajdGUFphc0dyay8yaktncHJNV09Sd0VyR0N3Rmk0ClNvTXRVdVRoeHNuYS9lUVlDWU1pUDJLRXovSjM5ZVh2NUdLVFZNbWMrN2hJMjZPclYzTEQxeVpJaEpaKzZkdTUKakhPd2lzenRDdytUMnEwNjFQN2hPUnZBOGV2VmFpTlV3ZzFocmg2ZlBlcjFYUnVUcnlJS1kwS2xlQnllc09JQgpIVkdlcWFzZjJyWjM1WVdXNUFJU1BTUXFsOTlsTzJXVEFnTUJBQUdqVmpCVU1BNEdBMVVkRHdFQi93UUVBd0lGCm9EQVRCZ05WSFNVRUREQUtCZ2dyQmdFRkJRY0RBakFNQmdOVkhSTUJBZjhFQWpBQU1COEdBMVVkSXdRWU1CYUEKRkZuY1ZWN0J2UHhSUVF2K2FldzkyR3E5S0IzTE1BMEdDU3FHU0liM0RRRUJDd1VBQTRJQkFRQWdLMVhrckY1dQoxZzVkK3lSTUtPUFpjaTlGRlJmL0JUYzlXalJXTFRCN2RZRWM4TWJ5VjhwZ3c2S1drcVBaTUNPV01HRTFpZU52CmpwWlU5NDlKblBKMCtsMFg1clQ0Q0NIb2s1M2J1VjhnSGk4VEFtTEhla3RibWhTS29iemdodGFaYk4xK1ovQ3cKRXlPT3prV0VYMXBKdTB6M0ZSby9GZldKZVJDNm51QThMOFlJYTEwWGNkaTdobVV5ZU90NkQyR1I1ZitPUnFycgprcUU4Ujg2ZUEzdmJrVkJDMDhaTFRpSjA1b0RnbGtjR3RIYUZteHVnM21SVjE4Zk5wZGtQNGRlbGwxekdJQWJDCno5VFhoOUJ3N00wWVFoTkVka3dNRnRCdU1iR3BWRGJzWGZUU1R3OE1VVzFUemZ1NXBBWlAwVWpEbTJVNEZRUGkKY0xPbXhhNitncHJBCi0tLS0tRU5EIENFUlRJRklDQVRFLS0tLS0K'"
      ]
     },
     "execution_count": 48,
     "metadata": {},
     "output_type": "execute_result"
    }
   ],
   "source": []
  },
  {
   "cell_type": "code",
   "execution_count": 4,
   "metadata": {},
   "outputs": [
    {
     "name": "stdout",
     "output_type": "stream",
     "text": [
      "LS0tLS1CRUdJTiBDRVJUSUZJQ0FURSBSRVFVRVNULS0tLS0KTUlJQ1Z6Q0NBVDhDQVFBd0VqRVFNQTRHQTFVRUF3d0hkR1Z1WVc1ME1UQ0NBU0l3RFFZSktvWklodmNOQVFFQgpCUUFEZ2dFUEFEQ0NBUW9DZ2dFQkFOSWlBOFQwL1JGSUtZNzRmL3FSUmxad1U1NC8ySHJsZG5vYXFQcW1wMGc3CmxUQm5YbE9lblF3bVk3dURNYlkyc2ZQUmJZcWRrT09QNmw4UTNBNm5XMFg0aWtJbkNlZWlyWmhoaC9ieFk3WDEKWVN4TkZ0elNDS1VkdkhXMUsvNE1zVERZcHdvejJZQ3ZZSGw3aVo5U3hvVUpveTV0aUg4MlFVa3FNTFk0THNoeAoraU4vSzBGVWZWZW1EMU5TOXFBc0JiRURlNnR6dkdaOFBZMVBPR3k2bFgwd3kzVHRHM1I1Wm5UZXcwR0s5VlhoCnZPSjBYek82WXBvVzRaWXRvNk85ZUdRS2gzTGxiRXg2QngwTmttNzV4L2xyd0J1T0FtUDdRelFNYXljMDY3MjgKems1SGlJdEdyQ1d3MVlsbTB0d0VpZGFMdlVQTzNHM2RtUnBNcnB5L01UVUNBd0VBQWFBQU1BMEdDU3FHU0liMwpEUUVCQ3dVQUE0SUJBUUJqMTZLdlR0VDRrTEE2U1JjUTliaHRpMjFrK28vUW5ENUdHaUZRd1FUTGRCWmpjNDdWCkRRb0gvN1I3RW9wT3VJeUV0TFM2dXp2bDBreGVQQ054ZWFhaFBiNG1nUkU1N2ppUW50b0lNY3VGWVV5a1ZjV2cKeXNBL0d4WGJaS2Q3bmRHcldlOEkvaVFUKzhWNWJKQTBpMlZ1dmg2WkdrOGNaLzJ3bGgrTnZkM0pTeUdGSGs1Lwo0b3pETGp1TEJ2aG9TS2FHcEVyekNaTldOcThVTXgwc3VEY0hLT3ZMYkVGTzRCTFI4ZzJwVjYrOTdNWkhEZHNhCjl2MFZaYmFCQzQyQVhPV1FxK3dyWVZDTndXei9HWW05cjVSRi9JdEN2SlJITDRrMXp3RExSSVZwMDVKSHRtZDUKNVQyNExpMWJVSDFDb2NCVlpxdXQ4S1lDVXRPMUV6azUyTDdZCi0tLS0tRU5EIENFUlRJRklDQVRFIFJFUVVFU1QtLS0tLQo=\n",
      "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\n"
     ]
    }
   ],
   "source": [
    "print(base64_csr)\n",
    "print(base64_pem)"
   ]
  },
  {
   "cell_type": "code",
   "execution_count": 5,
   "metadata": {},
   "outputs": [],
   "source": [
    "config.load_kube_config()"
   ]
  },
  {
   "cell_type": "code",
   "execution_count": null,
   "metadata": {},
   "outputs": [],
   "source": []
  },
  {
   "cell_type": "code",
   "execution_count": null,
   "metadata": {},
   "outputs": [],
   "source": [
    "\n",
    "\n",
    "# Load Kubernetes configuration from default location\n",
    "\n",
    "\n",
    "# Create a Kubernetes API client\n",
    "api_instance = client.CoreV1Api()\n",
    "\n",
    "# Define the pod specification\n",
    "pod_manifest = {\n",
    "    \"apiVersion\": \"v1\",\n",
    "    \"kind\": \"Pod\",\n",
    "    \"metadata\": {\n",
    "        \"name\": \"example-pod\"\n",
    "    },\n",
    "    \"spec\": {\n",
    "        \"containers\": [\n",
    "            {\n",
    "                \"name\": \"example-container\",\n",
    "                \"image\": \"nginx\",\n",
    "                \"ports\": [\n",
    "                    {\n",
    "                        \"containerPort\": 80\n",
    "                    }\n",
    "                ]\n",
    "            }\n",
    "        ]\n",
    "    }\n",
    "}\n",
    "\n",
    "# Create the pod\n",
    "api_response = api_instance.create_namespaced_pod(body=pod_manifest, namespace=\"default\")\n",
    "\n",
    "print(\"Pod created. Status='%s'\" % str(api_response.status))\n"
   ]
  }
 ],
 "metadata": {
  "kernelspec": {
   "display_name": "Python 3",
   "language": "python",
   "name": "python3"
  },
  "language_info": {
   "codemirror_mode": {
    "name": "ipython",
    "version": 3
   },
   "file_extension": ".py",
   "mimetype": "text/x-python",
   "name": "python",
   "nbconvert_exporter": "python",
   "pygments_lexer": "ipython3",
   "version": "3.11.7"
  },
  "orig_nbformat": 4
 },
 "nbformat": 4,
 "nbformat_minor": 2
}
